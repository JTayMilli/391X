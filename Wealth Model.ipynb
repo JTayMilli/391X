{
 "cells": [
  {
   "cell_type": "code",
   "execution_count": 143,
   "id": "5a559972",
   "metadata": {},
   "outputs": [],
   "source": [
    "import pandas as pd\n",
    "import seaborn as sns\n",
    "import numpy as np\n",
    "import math\n",
    "from matplotlib import pyplot as plt\n",
    "import csv"
   ]
  },
  {
   "cell_type": "markdown",
   "id": "07c0cea9",
   "metadata": {},
   "source": [
    "Define External Variables"
   ]
  },
  {
   "cell_type": "code",
   "execution_count": 144,
   "id": "59396cc0",
   "metadata": {},
   "outputs": [],
   "source": [
    "WG = .02 # Defines how much wealth grows each period\n",
    "TR = .3 #Tax Rate"
   ]
  },
  {
   "cell_type": "markdown",
   "id": "063af118",
   "metadata": {},
   "source": [
    "Gini Coefficiant Calculator"
   ]
  },
  {
   "cell_type": "code",
   "execution_count": 145,
   "id": "73115a00",
   "metadata": {},
   "outputs": [],
   "source": [
    "def gini(x): ## Take in np array numbers\n",
    "    total = 0\n",
    "    for i, xi in enumerate(x[:-1], 1):\n",
    "        total += np.sum(np.abs(xi - x[i:]))\n",
    "    return total / (len(x)**2 * np.mean(x))"
   ]
  },
  {
   "cell_type": "markdown",
   "id": "3b383f73",
   "metadata": {},
   "source": [
    "Function that when called, creates a seed generation, pandas Data Frame, and returns it\n",
    "\n",
    "First generation makes first voting choice\n",
    "\n",
    "If your wealth is greater then median income, vote for no taxes, False\n",
    "\n",
    "If your wealth is less then median income, vote for taxes, True"
   ]
  },
  {
   "cell_type": "code",
   "execution_count": 146,
   "id": "ed3d359d",
   "metadata": {},
   "outputs": [],
   "source": [
    "def ppl0(): ##Sets up the first, 0th, generation\n",
    "    w = np.random.randint(1,11,size=10)\n",
    "    w.sort() # random wealth distrobution, 1-10, sorted\n",
    "    ppl0 = pd.DataFrame({'Name': ['A', 'B', 'C', 'D', 'E', 'F', 'G', 'H', 'I', 'J'], 'W': w}) #base values of the first generation\n",
    "    ppl0['WRich'] = ppl0.apply(lambda row: True if row['W'] >= np.mean(ppl0.W) else False, axis=1) #Says if they are wealth rich, meaning above average\n",
    "    ppl0['IRich'] = False #No income yet, they are all not income rich\n",
    "    ppl0[\"Income\"] = 0   ## No income from previous period\n",
    "    ppl0[\"Taxed\"] = 0   ##Noting is taxed from previous period  \n",
    "    ppl0[\"SB\"] = 0 #.1*(ppl0['W']/max(ppl0['W']))  #Random change buffer, higher value means higher avg expected draw. Is proportional to wealth compared to max\n",
    "    ppl0[\"Vote\"] = ppl0.apply(lambda row: False if row['WRich'] == True else True, axis=1) # Rich people vote no for redistrobution #will be based on probabilities and wealth later\n",
    "    return ppl0\n"
   ]
  },
  {
   "cell_type": "markdown",
   "id": "95f5fe60",
   "metadata": {},
   "source": [
    "Function automatically resets everything and creates new seed first generation 0\n",
    "\n",
    "Each gneration of people, a pd DataFrame, is put into the list ppl"
   ]
  },
  {
   "cell_type": "code",
   "execution_count": 147,
   "id": "8d3b83ab",
   "metadata": {},
   "outputs": [],
   "source": [
    "def reset0(): ## Restarts all data\n",
    "    ppl = [ppl0()] #creates list of generations of people\n",
    "    elect = [False] #Creates a list that will collect all election outcomes\n",
    "    G = [gini(ppl[0]['W'])] ## Creates list of every gini coefficient for each period/generation\n",
    "    return ppl, elect, G"
   ]
  },
  {
   "cell_type": "code",
   "execution_count": 148,
   "id": "b68b9501",
   "metadata": {},
   "outputs": [
    {
     "data": {
      "text/html": [
       "<div>\n",
       "<style scoped>\n",
       "    .dataframe tbody tr th:only-of-type {\n",
       "        vertical-align: middle;\n",
       "    }\n",
       "\n",
       "    .dataframe tbody tr th {\n",
       "        vertical-align: top;\n",
       "    }\n",
       "\n",
       "    .dataframe thead th {\n",
       "        text-align: right;\n",
       "    }\n",
       "</style>\n",
       "<table border=\"1\" class=\"dataframe\">\n",
       "  <thead>\n",
       "    <tr style=\"text-align: right;\">\n",
       "      <th></th>\n",
       "      <th>Name</th>\n",
       "      <th>W</th>\n",
       "      <th>WRich</th>\n",
       "      <th>IRich</th>\n",
       "      <th>Income</th>\n",
       "      <th>Taxed</th>\n",
       "      <th>SB</th>\n",
       "      <th>Vote</th>\n",
       "    </tr>\n",
       "  </thead>\n",
       "  <tbody>\n",
       "    <tr>\n",
       "      <th>0</th>\n",
       "      <td>A</td>\n",
       "      <td>3</td>\n",
       "      <td>False</td>\n",
       "      <td>False</td>\n",
       "      <td>0</td>\n",
       "      <td>0</td>\n",
       "      <td>0</td>\n",
       "      <td>True</td>\n",
       "    </tr>\n",
       "    <tr>\n",
       "      <th>1</th>\n",
       "      <td>B</td>\n",
       "      <td>4</td>\n",
       "      <td>False</td>\n",
       "      <td>False</td>\n",
       "      <td>0</td>\n",
       "      <td>0</td>\n",
       "      <td>0</td>\n",
       "      <td>True</td>\n",
       "    </tr>\n",
       "    <tr>\n",
       "      <th>2</th>\n",
       "      <td>C</td>\n",
       "      <td>4</td>\n",
       "      <td>False</td>\n",
       "      <td>False</td>\n",
       "      <td>0</td>\n",
       "      <td>0</td>\n",
       "      <td>0</td>\n",
       "      <td>True</td>\n",
       "    </tr>\n",
       "    <tr>\n",
       "      <th>3</th>\n",
       "      <td>D</td>\n",
       "      <td>6</td>\n",
       "      <td>False</td>\n",
       "      <td>False</td>\n",
       "      <td>0</td>\n",
       "      <td>0</td>\n",
       "      <td>0</td>\n",
       "      <td>True</td>\n",
       "    </tr>\n",
       "    <tr>\n",
       "      <th>4</th>\n",
       "      <td>E</td>\n",
       "      <td>7</td>\n",
       "      <td>True</td>\n",
       "      <td>False</td>\n",
       "      <td>0</td>\n",
       "      <td>0</td>\n",
       "      <td>0</td>\n",
       "      <td>False</td>\n",
       "    </tr>\n",
       "    <tr>\n",
       "      <th>5</th>\n",
       "      <td>F</td>\n",
       "      <td>7</td>\n",
       "      <td>True</td>\n",
       "      <td>False</td>\n",
       "      <td>0</td>\n",
       "      <td>0</td>\n",
       "      <td>0</td>\n",
       "      <td>False</td>\n",
       "    </tr>\n",
       "    <tr>\n",
       "      <th>6</th>\n",
       "      <td>G</td>\n",
       "      <td>8</td>\n",
       "      <td>True</td>\n",
       "      <td>False</td>\n",
       "      <td>0</td>\n",
       "      <td>0</td>\n",
       "      <td>0</td>\n",
       "      <td>False</td>\n",
       "    </tr>\n",
       "    <tr>\n",
       "      <th>7</th>\n",
       "      <td>H</td>\n",
       "      <td>8</td>\n",
       "      <td>True</td>\n",
       "      <td>False</td>\n",
       "      <td>0</td>\n",
       "      <td>0</td>\n",
       "      <td>0</td>\n",
       "      <td>False</td>\n",
       "    </tr>\n",
       "    <tr>\n",
       "      <th>8</th>\n",
       "      <td>I</td>\n",
       "      <td>8</td>\n",
       "      <td>True</td>\n",
       "      <td>False</td>\n",
       "      <td>0</td>\n",
       "      <td>0</td>\n",
       "      <td>0</td>\n",
       "      <td>False</td>\n",
       "    </tr>\n",
       "    <tr>\n",
       "      <th>9</th>\n",
       "      <td>J</td>\n",
       "      <td>9</td>\n",
       "      <td>True</td>\n",
       "      <td>False</td>\n",
       "      <td>0</td>\n",
       "      <td>0</td>\n",
       "      <td>0</td>\n",
       "      <td>False</td>\n",
       "    </tr>\n",
       "  </tbody>\n",
       "</table>\n",
       "</div>"
      ],
      "text/plain": [
       "  Name  W  WRich  IRich  Income  Taxed  SB   Vote\n",
       "0    A  3  False  False       0      0   0   True\n",
       "1    B  4  False  False       0      0   0   True\n",
       "2    C  4  False  False       0      0   0   True\n",
       "3    D  6  False  False       0      0   0   True\n",
       "4    E  7   True  False       0      0   0  False\n",
       "5    F  7   True  False       0      0   0  False\n",
       "6    G  8   True  False       0      0   0  False\n",
       "7    H  8   True  False       0      0   0  False\n",
       "8    I  8   True  False       0      0   0  False\n",
       "9    J  9   True  False       0      0   0  False"
      ]
     },
     "execution_count": 148,
     "metadata": {},
     "output_type": "execute_result"
    }
   ],
   "source": [
    "ppl, elect, G = reset0()\n",
    "ppl[0] # calls the first generation, genderation 0, the seed generation"
   ]
  },
  {
   "cell_type": "markdown",
   "id": "cd882fa9",
   "metadata": {},
   "source": [
    "This function, when called, creates a new generation, ppl t\n",
    "\n",
    "ppl t to is added to the list of generations, appended right after ppl t-1"
   ]
  },
  {
   "cell_type": "code",
   "execution_count": 149,
   "id": "09bba487",
   "metadata": {},
   "outputs": [],
   "source": [
    "def NextPeriod():\n",
    "    t = len(ppl) ## current period, shortcut to finding this is just to count how many gnerations there are on the \"ppl\" list\n",
    "    ppl.append(ppl[t - 1].copy()) ## creates copy of previous period\n",
    "    \n",
    "    Outcome = False #Outcome of voting is automatically False, no taxes\n",
    "    if ppl[t - 1][\"Vote\"].value_counts()[True] >= ppl[t - 1][\"Vote\"].value_counts()[False]: Outcome = True ## Outcome of voting is True, taxes, if a majority of people last peiod voted True\n",
    "    elect.append(Outcome) ## Adds voting outcomes to list of election outcomes\n",
    "    \n",
    "    ppl[t]['Income'] = ppl[t]['W']*(WG) ## calculates income fro individual (wealth * wealth growth rate) \n",
    "    ppl[t]['Income'] = ppl[t].apply(lambda row: row['Income'] \n",
    "                        + (row['W'] * np.random.normal(loc=row['SB'], scale=.1)) #adds random chance income, proportional to wealth\n",
    "                        + (sum(ppl[t-1]['Taxed']) * np.random.beta(a = 3, b = 3*(len(ppl[t]) - 1))), axis = 1) #adds benefits of taxes through investment, on average all the benefits of the tax are distributed since mean is Total taxed / number of people #using beta distrobution\n",
    "    ## I hope you know I am actually really clever for figuring out how to create a beta distrobution with a set mean\n",
    "    MeanI = np.mean(ppl[t]['Income']) ## Defining Variable Mean Wealth\n",
    "    \n",
    "    ppl[t]['IRich'] = ppl[t].apply(lambda row: True if row['Income'] >= MeanI else False, axis=1) #Says if individuals is income rich, meaning above average\n",
    "    ppl[t][\"Taxed\"] = ppl[t].apply(lambda row: (row['Income'] - MeanI)*TR if row['IRich'] == True else 0, axis=1) #calculates how much they are taxed in the current period\n",
    "    \n",
    "    ppl[t]['W'] = ppl[t]['W'] + ppl[t]['Income'] - ppl[t][\"Taxed\"] ## Wealth is previous period wealth, plus income, plus tax\n",
    "    ppl[t]['W'] = ppl[t].apply(lambda row: max(1, row['W']), axis = 1) ## min wealth is 1, no negative wealth, they get reset\n",
    "    \n",
    "    MeanW = np.mean(ppl[t]['W']) ## Defining Variable Mean Wealth\n",
    "    ppl[t]['WRich'] = ppl[t].apply(lambda row: True if row['W'] >= MeanW else False, axis=1) #Says if individuals are wealth rich, meaning above average\n",
    "    ppl[t][\"SB\"] = 0 # irrelavent, too powerful, not using anymore #.1*(ppl[t]['W']/max(ppl[t]['W'])) #chance buffer proportional to wealth compared to max wealth\n",
    "    ppl[t][\"Vote\"] = ppl[t].apply(lambda row: False if row['WRich'] == True else True, axis=1) # Rich people vote no for taxes, not rish people for for taxes #will be based on probabilities and wealth later\n",
    "    \n",
    "    G.append(gini(ppl[t]['W'])) ## calcuates this period's gini coefficient and adds it to the list for each period/generation\n",
    "    \n",
    "    return t ## Return the current / latest period, just makes thing easy"
   ]
  },
  {
   "cell_type": "markdown",
   "id": "4d81fcaf",
   "metadata": {},
   "source": [
    "Every time this function is called, a new generation/period is created and their welth is graphed"
   ]
  },
  {
   "cell_type": "code",
   "execution_count": 150,
   "id": "7be1cd40",
   "metadata": {},
   "outputs": [],
   "source": [
    "def GraphNextWealth():\n",
    "    t = NextPeriod() #calls the function creating the next period and returns the current period t and voting outcome\n",
    "    GraphW = sns.barplot(data=ppl[t], x=\"Name\", y=\"W\", estimator= 'mean', order = ppl[t].sort_values('W').Name) #Wealth distrobution graph\n",
    "    GraphW.set(title = f\"Wealth in Period {t}, Outcome is {elect[t]}, Gini is {G[t]:.3f}\", label = True) #, ybound=[0,50],)\n",
    "    GraphW.bar_label(GraphW.containers[0])\n",
    "    GraphW.axhline(y = np.mean(ppl[t]['W']), color = 'darkgreen')"
   ]
  },
  {
   "cell_type": "code",
   "execution_count": 151,
   "id": "56baefc6",
   "metadata": {},
   "outputs": [],
   "source": [
    "#GraphNextWealth()"
   ]
  },
  {
   "cell_type": "markdown",
   "id": "fb44fb31",
   "metadata": {},
   "source": [
    "Sample Output:\n",
    "\n",
    "![alt text](wealthGraphBasic.png \"Title\")\n",
    "\n",
    "Wealth Distrobution of the period after the seed gneration, ppl 0"
   ]
  },
  {
   "cell_type": "code",
   "execution_count": 152,
   "id": "0ba80f2b",
   "metadata": {},
   "outputs": [],
   "source": [
    "def run(r = 100): #iterates/creates \"r\" new period, automatically 100 if not specified when called\n",
    "    for i in range(r): NextPeriod() "
   ]
  },
  {
   "cell_type": "markdown",
   "id": "b0673f4c",
   "metadata": {},
   "source": [
    "\"probF\" Function is my attempt at calcuating the probabality of switching from state \"Taxes\" to \"No Taxes\"\n",
    "\n",
    "It takes the sum of the times it switches states from \"Taxes\" to \"No Taxes\" by the number times it is in state \"Taxes\""
   ]
  },
  {
   "cell_type": "code",
   "execution_count": 153,
   "id": "8166b6b3",
   "metadata": {},
   "outputs": [],
   "source": [
    "def probF():\n",
    "    isT = 0 #counts how many times the value is T\n",
    "    stF = 0 #counts how many times T switches to F\n",
    "    \n",
    "    for i in range(len(elect)-1):\n",
    "        if elect[i] == True: isT += 1\n",
    "        if elect[i] == False and elect[i-1] == True: stF += 1\n",
    "        \n",
    "    return (stF/isT)"
   ]
  },
  {
   "cell_type": "markdown",
   "id": "74e3fb00",
   "metadata": {},
   "source": [
    "This \"plot gini\" function plotd the gini in each period as well as the voting outcomes\n",
    "\n",
    "1 = Taxes, \n",
    "0 = No Taxes\n",
    "\n",
    "It also display the current Tax Rate, Avg, Gini over all periods, and the probability of switching, \"probF\" as described above"
   ]
  },
  {
   "cell_type": "code",
   "execution_count": 154,
   "id": "06e20e46",
   "metadata": {},
   "outputs": [],
   "source": [
    "def plotGini(): ## creates plot with election outcomes and gini over time\n",
    "    plt.plot(elect)\n",
    "    plt.plot(G)\n",
    "    plt.xlabel(f\"Period, t = {len(ppl) - 1}\")\n",
    "    plt.ylabel(f\"Tax Policy in Effect = 1, Avg. Gini ({np.mean(G):.3f})\")\n",
    "    plt.title(f\"Tax Rate =  {TR}, Probability of Switching = {probF():.3f}\")"
   ]
  },
  {
   "cell_type": "code",
   "execution_count": 155,
   "id": "a2b2199e",
   "metadata": {},
   "outputs": [],
   "source": [
    "#run(1000)\n",
    "#plotGini()"
   ]
  },
  {
   "cell_type": "markdown",
   "id": "8df1b454",
   "metadata": {},
   "source": [
    "Sample Output:\n",
    "\n",
    "![alt text](plotGiniBasic.png \"Title\")\n",
    "\n",
    "Inequality tends to rise when there are not taxes, blue line is at 0"
   ]
  },
  {
   "cell_type": "code",
   "execution_count": 156,
   "id": "469c6b3c",
   "metadata": {},
   "outputs": [],
   "source": [
    "#probF()"
   ]
  },
  {
   "cell_type": "markdown",
   "id": "e29ae981",
   "metadata": {},
   "source": [
    "\"AvgG\" calculates the average Gini coefficient for different values of the Tax Rate\n",
    "\n",
    "This is simple for runtime purposes. We are going by Tax Rate intervuls of .1. We are only doing one simulation of 100 generations per Tax Rate. We would need way more intervuls, simulations, and periods to be accuate."
   ]
  },
  {
   "cell_type": "code",
   "execution_count": 157,
   "id": "88704cc0",
   "metadata": {},
   "outputs": [],
   "source": [
    "def AvgG():\n",
    "    AvgG = pd.DataFrame({'TR': [], 'AvgG': []}) #creates a list of Average Gini\n",
    "    for TTR in range(10):  # only 10 TR, 0-1\n",
    "        TR = TTR * .1 ## TR intervuls of .1\n",
    "        ppl, elect, G = reset0() # resets and seeds ppl 0\n",
    "        run(1000) # itterate/creates 1000 generations using tax rate TR\n",
    "        \n",
    "        AvgG.loc[len(AvgG)] = [TR, np.mean(G)] ## Adds avg gini to list for each iteration at differnt TR\n",
    "        \n",
    "    return AvgG"
   ]
  },
  {
   "cell_type": "code",
   "execution_count": 158,
   "id": "88949384",
   "metadata": {},
   "outputs": [],
   "source": [
    "def GraphAvgG(): ## Graphs the \"AvgG\" function\n",
    "    AvgGD = AvgG()\n",
    "    GraphAG = sns.lineplot(data = AvgGD, x = AvgGD['TR'], y = AvgGD['AvgG'])\n",
    "    GraphAG.set(ybound = [0,1])"
   ]
  },
  {
   "cell_type": "code",
   "execution_count": 159,
   "id": "8c104bb0",
   "metadata": {},
   "outputs": [],
   "source": [
    "#GraphAvgG()"
   ]
  },
  {
   "cell_type": "markdown",
   "id": "f37bdc90",
   "metadata": {},
   "source": [
    "Sample Output:\n",
    "\n",
    "![alt text](AvgGiniWithDifferentTR1k.png \"Title\")\n",
    "\n",
    "Average Gini (Y-Axis) trends down as TR (X-axis) increases"
   ]
  },
  {
   "cell_type": "markdown",
   "id": "05920336",
   "metadata": {},
   "source": [
    "---------------------------------------\n",
    "Probability switching Tax to No Tax per Tax Rate, \"probFTR\" does the same thing as Avg Gini except with \"probF\" as defined above. \n",
    "\n",
    "Simulates 1000 generations/periods once for each Tax Rates\n"
   ]
  },
  {
   "cell_type": "code",
   "execution_count": 160,
   "id": "78e4a7cd",
   "metadata": {},
   "outputs": [],
   "source": [
    "def probFTR():\n",
    "    probFTR = pd.DataFrame({'TR': [], 'ProbF': []}) #probF list\n",
    "    for TTR in range(10):\n",
    "        TR = TTR * .1 ## .1 intervuls for Tax Rate\n",
    "        ppl, elect, G = reset0() # reset\n",
    "        run(1000) #  itterate/creates 1000 generations using tax rate TR\n",
    "        \n",
    "        probFTR.loc[len(probFTR)] = [TR, probF()] ## Adds avg to list for each iteration\n",
    "        \n",
    "    return probFTR"
   ]
  },
  {
   "cell_type": "code",
   "execution_count": 161,
   "id": "088b8db5",
   "metadata": {},
   "outputs": [
    {
     "data": {
      "image/png": "[encoded data removed]",
      "text/plain": [
       "<Figure size 640x480 with 1 Axes>"
      ]
     },
     "metadata": {},
     "output_type": "display_data"
    }
   ],
   "source": [
    "probFD = probFTR()\n",
    "GraphProbF = sns.lineplot(data = probFD, x = probFD['TR'], y = probFD['ProbF']) ## Graph probFTR"
   ]
  },
  {
   "cell_type": "markdown",
   "id": "a2438216",
   "metadata": {},
   "source": [
    "Sample Output:\n",
    "\n",
    "![alt text](SwitchPerTR2.png \"Title\")\n",
    "\n",
    "As Tax Rates Increase, the probability of switching from \"Taxes\" to \"No Taxes\" increases. This is because high taxes make the disrobution more equal and more likely that the Voting Outcome will be for \"No Taxes\" in each period."
   ]
  },
  {
   "cell_type": "code",
   "execution_count": 162,
   "id": "37731ef6",
   "metadata": {},
   "outputs": [],
   "source": [
    "## Next\n",
    "## Change voting to be based on percieved outcomes\n",
    "## Delay voting / median Income, so probibility that they will be taxed in the period\n",
    "## Calculate the inequality and making voting based on that\n",
    "## collect the data and average over several times\n",
    "## iterate over different r\n",
    "## gini is actuallly good for measuring the distrobution but bad for advising next steps, or measuring the changes and directions of inequality\n",
    "## Can change election laws, see impact\n",
    "## Add more tax\n",
    "## probabalistic income predictions, people hate being not rich in the future"
   ]
  }
 ],
 "metadata": {
  "kernelspec": {
   "display_name": "Python 3 (ipykernel)",
   "language": "python",
   "name": "python3"
  },
  "language_info": {
   "codemirror_mode": {
    "name": "ipython",
    "version": 3
   },
   "file_extension": ".py",
   "mimetype": "text/x-python",
   "name": "python",
   "nbconvert_exporter": "python",
   "pygments_lexer": "ipython3",
   "version": "3.11.4"
  }
 },
 "nbformat": 4,
 "nbformat_minor": 5
}

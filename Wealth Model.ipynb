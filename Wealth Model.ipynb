{
 "cells": [
  {
   "cell_type": "code",
   "execution_count": 1414,
   "id": "5a559972",
   "metadata": {},
   "outputs": [],
   "source": [
    "import pandas as pd\n",
    "import seaborn as sns\n",
    "import numpy as np\n",
    "import math\n",
    "from matplotlib import pyplot as plt\n",
    "import csv"
   ]
  },
  {
   "cell_type": "code",
   "execution_count": 1415,
   "id": "59396cc0",
   "metadata": {},
   "outputs": [],
   "source": [
    "WG = .02 # Defines how much wealth grows each period\n",
    "TR = .3 #Tax Rate"
   ]
  },
  {
   "cell_type": "code",
   "execution_count": 1416,
   "id": "73115a00",
   "metadata": {},
   "outputs": [],
   "source": [
    "def gini(x):\n",
    "    total = 0\n",
    "    for i, xi in enumerate(x[:-1], 1):\n",
    "        total += np.sum(np.abs(xi - x[i:]))\n",
    "    return total / (len(x)**2 * np.mean(x))"
   ]
  },
  {
   "cell_type": "code",
   "execution_count": 1417,
   "id": "ed3d359d",
   "metadata": {},
   "outputs": [],
   "source": [
    "def ppl0(): ##Setsup the first, 0th, generation\n",
    "    w = np.random.randint(1,11,size=10)\n",
    "    w.sort() # random wealth distrobution, 1-10, sorted\n",
    "    ppl0 = pd.DataFrame({'Name': ['A', 'B', 'C', 'D', 'E', 'F', 'G', 'H', 'I', 'J'], 'W': w}) #base values of the first generation\n",
    "    ppl0['WRich'] = ppl0.apply(lambda row: True if row['W'] >= np.mean(ppl0.W) else False, axis=1) #Says if they are wealth rich, meaning above average\n",
    "    ppl0['IRich'] = False #No income yet, they are all not income rich\n",
    "    ppl0[\"Income\"] = 0\n",
    "    ppl0[\"Taxed\"] = 0\n",
    "    ppl0[\"SB\"] = 0 #.1*(ppl0['W']/max(ppl0['W']))  #Random change buffer, higher value means higher avg expected draw. Is proportional to wealth compared to max\n",
    "    ppl0[\"Vote\"] = ppl0.apply(lambda row: False if row['WRich'] == True else True, axis=1) # Rich people vote no for redistrobution #will be based on probabilities and wealth later\n",
    "    return ppl0\n"
   ]
  },
  {
   "cell_type": "code",
   "execution_count": 1418,
   "id": "8d3b83ab",
   "metadata": {},
   "outputs": [],
   "source": [
    "def reset0(): ## Restarts all data\n",
    "    ppl = [ppl0()] #creates list of generations of people\n",
    "    elect = [False] #Creates a list that will collect all election outcomes\n",
    "    G = [gini(ppl[0]['W'])]\n",
    "    return ppl, elect, G"
   ]
  },
  {
   "cell_type": "code",
   "execution_count": 1419,
   "id": "b68b9501",
   "metadata": {},
   "outputs": [
    {
     "data": {
      "text/html": [
       "<div>\n",
       "<style scoped>\n",
       "    .dataframe tbody tr th:only-of-type {\n",
       "        vertical-align: middle;\n",
       "    }\n",
       "\n",
       "    .dataframe tbody tr th {\n",
       "        vertical-align: top;\n",
       "    }\n",
       "\n",
       "    .dataframe thead th {\n",
       "        text-align: right;\n",
       "    }\n",
       "</style>\n",
       "<table border=\"1\" class=\"dataframe\">\n",
       "  <thead>\n",
       "    <tr style=\"text-align: right;\">\n",
       "      <th></th>\n",
       "      <th>Name</th>\n",
       "      <th>W</th>\n",
       "      <th>WRich</th>\n",
       "      <th>IRich</th>\n",
       "      <th>Income</th>\n",
       "      <th>Taxed</th>\n",
       "      <th>SB</th>\n",
       "      <th>Vote</th>\n",
       "    </tr>\n",
       "  </thead>\n",
       "  <tbody>\n",
       "    <tr>\n",
       "      <th>0</th>\n",
       "      <td>A</td>\n",
       "      <td>2</td>\n",
       "      <td>False</td>\n",
       "      <td>False</td>\n",
       "      <td>0</td>\n",
       "      <td>0</td>\n",
       "      <td>0</td>\n",
       "      <td>True</td>\n",
       "    </tr>\n",
       "    <tr>\n",
       "      <th>1</th>\n",
       "      <td>B</td>\n",
       "      <td>4</td>\n",
       "      <td>False</td>\n",
       "      <td>False</td>\n",
       "      <td>0</td>\n",
       "      <td>0</td>\n",
       "      <td>0</td>\n",
       "      <td>True</td>\n",
       "    </tr>\n",
       "    <tr>\n",
       "      <th>2</th>\n",
       "      <td>C</td>\n",
       "      <td>4</td>\n",
       "      <td>False</td>\n",
       "      <td>False</td>\n",
       "      <td>0</td>\n",
       "      <td>0</td>\n",
       "      <td>0</td>\n",
       "      <td>True</td>\n",
       "    </tr>\n",
       "    <tr>\n",
       "      <th>3</th>\n",
       "      <td>D</td>\n",
       "      <td>4</td>\n",
       "      <td>False</td>\n",
       "      <td>False</td>\n",
       "      <td>0</td>\n",
       "      <td>0</td>\n",
       "      <td>0</td>\n",
       "      <td>True</td>\n",
       "    </tr>\n",
       "    <tr>\n",
       "      <th>4</th>\n",
       "      <td>E</td>\n",
       "      <td>5</td>\n",
       "      <td>False</td>\n",
       "      <td>False</td>\n",
       "      <td>0</td>\n",
       "      <td>0</td>\n",
       "      <td>0</td>\n",
       "      <td>True</td>\n",
       "    </tr>\n",
       "    <tr>\n",
       "      <th>5</th>\n",
       "      <td>F</td>\n",
       "      <td>5</td>\n",
       "      <td>False</td>\n",
       "      <td>False</td>\n",
       "      <td>0</td>\n",
       "      <td>0</td>\n",
       "      <td>0</td>\n",
       "      <td>True</td>\n",
       "    </tr>\n",
       "    <tr>\n",
       "      <th>6</th>\n",
       "      <td>G</td>\n",
       "      <td>6</td>\n",
       "      <td>True</td>\n",
       "      <td>False</td>\n",
       "      <td>0</td>\n",
       "      <td>0</td>\n",
       "      <td>0</td>\n",
       "      <td>False</td>\n",
       "    </tr>\n",
       "    <tr>\n",
       "      <th>7</th>\n",
       "      <td>H</td>\n",
       "      <td>6</td>\n",
       "      <td>True</td>\n",
       "      <td>False</td>\n",
       "      <td>0</td>\n",
       "      <td>0</td>\n",
       "      <td>0</td>\n",
       "      <td>False</td>\n",
       "    </tr>\n",
       "    <tr>\n",
       "      <th>8</th>\n",
       "      <td>I</td>\n",
       "      <td>8</td>\n",
       "      <td>True</td>\n",
       "      <td>False</td>\n",
       "      <td>0</td>\n",
       "      <td>0</td>\n",
       "      <td>0</td>\n",
       "      <td>False</td>\n",
       "    </tr>\n",
       "    <tr>\n",
       "      <th>9</th>\n",
       "      <td>J</td>\n",
       "      <td>10</td>\n",
       "      <td>True</td>\n",
       "      <td>False</td>\n",
       "      <td>0</td>\n",
       "      <td>0</td>\n",
       "      <td>0</td>\n",
       "      <td>False</td>\n",
       "    </tr>\n",
       "  </tbody>\n",
       "</table>\n",
       "</div>"
      ],
      "text/plain": [
       "  Name   W  WRich  IRich  Income  Taxed  SB   Vote\n",
       "0    A   2  False  False       0      0   0   True\n",
       "1    B   4  False  False       0      0   0   True\n",
       "2    C   4  False  False       0      0   0   True\n",
       "3    D   4  False  False       0      0   0   True\n",
       "4    E   5  False  False       0      0   0   True\n",
       "5    F   5  False  False       0      0   0   True\n",
       "6    G   6   True  False       0      0   0  False\n",
       "7    H   6   True  False       0      0   0  False\n",
       "8    I   8   True  False       0      0   0  False\n",
       "9    J  10   True  False       0      0   0  False"
      ]
     },
     "execution_count": 1419,
     "metadata": {},
     "output_type": "execute_result"
    }
   ],
   "source": [
    "ppl, elect, G = reset0()\n",
    "ppl[0]"
   ]
  },
  {
   "cell_type": "code",
   "execution_count": 1420,
   "id": "09bba487",
   "metadata": {},
   "outputs": [],
   "source": [
    "def NextPeriod():\n",
    "    t = len(ppl) ## current period\n",
    "    ppl.append(ppl[t - 1].copy()) ## creates copy of previous period\n",
    "    \n",
    "    Outcome = False #Outcome of vote is not to tax unless vote otherwise\n",
    "    if ppl[t - 1][\"Vote\"].value_counts()[True] >= ppl[t - 1][\"Vote\"].value_counts()[False]: Outcome = True\n",
    "    elect.append(Outcome)\n",
    "    \n",
    "    ppl[t]['Income'] = ppl[t]['W']*(WG) ## calculates income fro individual (wealth * wealth growth rate) \n",
    "    ppl[t]['Income'] = ppl[t].apply(lambda row: row['Income'] \n",
    "                        + (row['W'] * np.random.normal(loc=row['SB'], scale=.1)) #+ random chance income, proportional to wealth, adjusted buffer for wealth\n",
    "                        + (sum(ppl[t-1]['Taxed']) * np.random.beta(a = 3, b = 3*(len(ppl[t]) - 1))), axis = 1) #+ benefits of taxes through investment, on average all the benefits of the tax are distributed #using beta distrobution\n",
    "    ## I hope you know I am actually really claver for figuring out how to create a beta distrobution with a set mean\n",
    "    MeanI = np.mean(ppl[t]['Income']) ## Defining Mean Wealth\n",
    "    \n",
    "    ppl[t]['IRich'] = ppl[t].apply(lambda row: True if row['Income'] >= MeanI else False, axis=1) #Says if they are income rich, meaning above average\n",
    "    ppl[t][\"Taxed\"] = ppl[t].apply(lambda row: (row['Income'] - MeanI)*TR if row['IRich'] == True else 0, axis=1) #calculates how much was taxed\n",
    "    \n",
    "    ppl[t]['W'] = ppl[t]['W'] + ppl[t]['Income'] - ppl[t][\"Taxed\"] ## Adds income to \n",
    "    ppl[t]['W'] = ppl[t].apply(lambda row: max(1, row['W']), axis = 1) ## min wealth is 1\n",
    "    \n",
    "    MeanW = np.mean(ppl[t]['W']) ## Defining Mean Wealth\n",
    "    ppl[t]['WRich'] = ppl[t].apply(lambda row: True if row['W'] >= MeanW else False, axis=1) #Says if they are rich, meaning above average\n",
    "    ppl[t][\"SB\"] = 0 # irrelavent, too powerful #.1*(ppl[t]['W']/max(ppl[t]['W'])) #chance buffer proportional to wealth compared to max wealth\n",
    "    ppl[t][\"Vote\"] = ppl[t].apply(lambda row: False if row['WRich'] == True else True, axis=1) # Rich people vote no for redistrobution #will be based on probabilities and wealth later\n",
    "    \n",
    "    G.append(gini(ppl[t]['W']))\n",
    "    \n",
    "    return t"
   ]
  },
  {
   "cell_type": "code",
   "execution_count": 1421,
   "id": "7be1cd40",
   "metadata": {},
   "outputs": [],
   "source": [
    "def GraphNextWealth():\n",
    "    t = NextPeriod() #calls the function creating the next period and returns the current period t and voting outcome\n",
    "    GraphW = sns.barplot(data=ppl[t], x=\"Name\", y=\"W\", estimator= 'mean', order = ppl[t].sort_values('W').Name) #Wealth distrobution graph\n",
    "    GraphW.set(title = f\"Wealth in Period {t}, Outcome is {elect[t]}, Gini is {G[t]:.3f}\", label = True) #, ybound=[0,50],)\n",
    "    GraphW.bar_label(GraphW.containers[0])\n",
    "    GraphW.axhline(y = np.mean(ppl[t]['W']), color = 'darkgreen')"
   ]
  },
  {
   "cell_type": "code",
   "execution_count": 1422,
   "id": "56baefc6",
   "metadata": {},
   "outputs": [],
   "source": [
    "#GraphNextWealth()"
   ]
  },
  {
   "cell_type": "code",
   "execution_count": 1423,
   "id": "0ba80f2b",
   "metadata": {},
   "outputs": [],
   "source": [
    "def run(r = 100): #iterates for 100 periods\n",
    "    for i in range(r): NextPeriod()"
   ]
  },
  {
   "cell_type": "code",
   "execution_count": 1424,
   "id": "8166b6b3",
   "metadata": {},
   "outputs": [],
   "source": [
    "def probF():\n",
    "    isT = 0 #counts how many times the value is T\n",
    "    stF = 0 #counts how many times T switches to F\n",
    "    \n",
    "    for i in range(len(elect)-1):\n",
    "        if elect[i] == True: isT += 1\n",
    "        if elect[i] == False and elect[i-1] == True: stF += 1\n",
    "        \n",
    "    return (stF/isT)"
   ]
  },
  {
   "cell_type": "code",
   "execution_count": 1425,
   "id": "06e20e46",
   "metadata": {},
   "outputs": [],
   "source": [
    "def plotGini(): ## creates plot with election outcomes and gini over time\n",
    "    plt.plot(elect)\n",
    "    plt.plot(G)\n",
    "    plt.xlabel(f\"Period, t = {len(ppl) - 1}\")\n",
    "    plt.ylabel(f\"Tax Policy in Effect = 1, Avg. Gini ({np.mean(G):.3f})\")\n",
    "    plt.title(f\"Tax Rate =  {TR}, Probability of Switching = {probF():.3f}\")"
   ]
  },
  {
   "cell_type": "code",
   "execution_count": 1426,
   "id": "a2b2199e",
   "metadata": {},
   "outputs": [],
   "source": [
    "#run(1000)\n",
    "#plotGini()"
   ]
  },
  {
   "cell_type": "code",
   "execution_count": 1427,
   "id": "469c6b3c",
   "metadata": {},
   "outputs": [],
   "source": [
    "#probF()"
   ]
  },
  {
   "cell_type": "code",
   "execution_count": 1428,
   "id": "88704cc0",
   "metadata": {},
   "outputs": [],
   "source": [
    "def AvgG():\n",
    "    AvgG = pd.DataFrame({'TR': [], 'AvgG': []}) #Average Gini list\n",
    "    for TTR in range(10):\n",
    "        TR = TTR * .1\n",
    "        ppl, elect, G = reset0() # reset\n",
    "        run(100) # itterate 100 times\n",
    "        \n",
    "        AvgG.loc[len(AvgG)] = [TR, np.mean(G)] ## Adds avg to list for each iteration\n",
    "        \n",
    "    return AvgG"
   ]
  },
  {
   "cell_type": "code",
   "execution_count": 1429,
   "id": "88949384",
   "metadata": {},
   "outputs": [],
   "source": [
    "def GraphAvgG():\n",
    "    AvgGD = AvgG()\n",
    "    GraphAG = sns.lineplot(data = AvgGD, x = AvgGD['TR'], y = AvgGD['AvgG'])\n",
    "    GraphAG.set(ybound = [0,1])"
   ]
  },
  {
   "cell_type": "code",
   "execution_count": 1430,
   "id": "8c104bb0",
   "metadata": {},
   "outputs": [],
   "source": [
    "#GraphAvgG()"
   ]
  },
  {
   "cell_type": "code",
   "execution_count": 1431,
   "id": "78e4a7cd",
   "metadata": {},
   "outputs": [],
   "source": [
    "def probFTR():\n",
    "    probFTR = pd.DataFrame({'TR': [], 'ProbF': []}) #Average Gini list\n",
    "    for TTR in range(10):\n",
    "        TR = TTR * .1\n",
    "        ppl, elect, G = reset0() # reset\n",
    "        run(100) # itterate 100 times\n",
    "        \n",
    "        probFTR.loc[len(probFTR)] = [TR, probF()] ## Adds avg to list for each iteration\n",
    "        \n",
    "    return probFTR"
   ]
  },
  {
   "cell_type": "code",
   "execution_count": 1432,
   "id": "088b8db5",
   "metadata": {},
   "outputs": [
    {
     "data": {
      "image/png": "[encoded data removed]",
      "text/plain": [
       "<Figure size 640x480 with 1 Axes>"
      ]
     },
     "metadata": {},
     "output_type": "display_data"
    }
   ],
   "source": [
    "probFD = probFTR()\n",
    "GraphProbF = sns.lineplot(data = probFD, x = probFD['TR'], y = probFD['ProbF'])"
   ]
  },
  {
   "cell_type": "code",
   "execution_count": 1433,
   "id": "37731ef6",
   "metadata": {},
   "outputs": [],
   "source": [
    "## Next\n",
    "## Change voting to be based on percieved outcomes\n",
    "## Delay voting / median Income, so probibility that they will be taxed in the period\n",
    "## Calculate the inequality and making voting based on that\n",
    "## collect the data and average over several times\n",
    "## iterate over different r\n",
    "## gini is actuallly good for measuring the distrobution but bad for advising next steps, or measuring the changes and directions of inequality\n",
    "## Can change election laws, see impact\n",
    "## Add more tax"
   ]
  }
 ],
 "metadata": {
  "kernelspec": {
   "display_name": "Python 3 (ipykernel)",
   "language": "python",
   "name": "python3"
  },
  "language_info": {
   "codemirror_mode": {
    "name": "ipython",
    "version": 3
   },
   "file_extension": ".py",
   "mimetype": "text/x-python",
   "name": "python",
   "nbconvert_exporter": "python",
   "pygments_lexer": "ipython3",
   "version": "3.11.4"
  }
 },
 "nbformat": 4,
 "nbformat_minor": 5
}

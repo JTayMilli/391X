{
 "cells": [
  {
   "cell_type": "code",
   "execution_count": 2648,
   "id": "5a559972",
   "metadata": {},
   "outputs": [],
   "source": [
    "import pandas as pd\n",
    "import seaborn as sns\n",
    "import numpy as np\n",
    "import math\n",
    "from matplotlib import pyplot as plt"
   ]
  },
  {
   "cell_type": "code",
   "execution_count": 2649,
   "id": "59396cc0",
   "metadata": {},
   "outputs": [],
   "source": [
    "WG = .02 # Defines how much wealth grows each period\n",
    "TR = .2 #Tax Rate"
   ]
  },
  {
   "cell_type": "code",
   "execution_count": 2650,
   "id": "73115a00",
   "metadata": {},
   "outputs": [],
   "source": [
    "def gini(x):\n",
    "    total = 0\n",
    "    for i, xi in enumerate(x[:-1], 1):\n",
    "        total += np.sum(np.abs(xi - x[i:]))\n",
    "    return total / (len(x)**2 * np.mean(x))"
   ]
  },
  {
   "cell_type": "code",
   "execution_count": 2651,
   "id": "ed3d359d",
   "metadata": {},
   "outputs": [],
   "source": [
    "ppl0 = pd.DataFrame({'Name': ['A', 'B', 'C', 'D', 'E', 'F', 'G', 'H', 'I', 'J'], 'W': [1,2,3,4,5,6,7,8,9,10]}) #base values of the first generation\n",
    "ppl0['WRich'] = ppl0.apply(lambda row: True if row['W'] >= np.mean(ppl0.W) else False, axis=1) #Says if they are wealth rich, meaning above average\n",
    "ppl0['IRich'] = False #No income yet, they are all not income rich\n",
    "ppl0[\"Income\"] = 0\n",
    "ppl0[\"Taxed\"] = 0\n",
    "ppl0[\"SB\"] = .1*(ppl0['W']/max(ppl0['W']))  #Random change buffer, higher value means higher avg expected draw. Is proportional to wealth compared to max\n",
    "ppl0[\"Vote\"] = ppl0.apply(lambda row: False if row['WRich'] == True else True, axis=1) # Rich people vote no for redistrobution #will be based on probabilities and wealth later\n"
   ]
  },
  {
   "cell_type": "code",
   "execution_count": 2652,
   "id": "8d3b83ab",
   "metadata": {},
   "outputs": [
    {
     "data": {
      "text/html": [
       "<div>\n",
       "<style scoped>\n",
       "    .dataframe tbody tr th:only-of-type {\n",
       "        vertical-align: middle;\n",
       "    }\n",
       "\n",
       "    .dataframe tbody tr th {\n",
       "        vertical-align: top;\n",
       "    }\n",
       "\n",
       "    .dataframe thead th {\n",
       "        text-align: right;\n",
       "    }\n",
       "</style>\n",
       "<table border=\"1\" class=\"dataframe\">\n",
       "  <thead>\n",
       "    <tr style=\"text-align: right;\">\n",
       "      <th></th>\n",
       "      <th>Name</th>\n",
       "      <th>W</th>\n",
       "      <th>WRich</th>\n",
       "      <th>IRich</th>\n",
       "      <th>Income</th>\n",
       "      <th>Taxed</th>\n",
       "      <th>SB</th>\n",
       "      <th>Vote</th>\n",
       "    </tr>\n",
       "  </thead>\n",
       "  <tbody>\n",
       "    <tr>\n",
       "      <th>0</th>\n",
       "      <td>A</td>\n",
       "      <td>1</td>\n",
       "      <td>False</td>\n",
       "      <td>False</td>\n",
       "      <td>0</td>\n",
       "      <td>0</td>\n",
       "      <td>0.01</td>\n",
       "      <td>True</td>\n",
       "    </tr>\n",
       "    <tr>\n",
       "      <th>1</th>\n",
       "      <td>B</td>\n",
       "      <td>2</td>\n",
       "      <td>False</td>\n",
       "      <td>False</td>\n",
       "      <td>0</td>\n",
       "      <td>0</td>\n",
       "      <td>0.02</td>\n",
       "      <td>True</td>\n",
       "    </tr>\n",
       "    <tr>\n",
       "      <th>2</th>\n",
       "      <td>C</td>\n",
       "      <td>3</td>\n",
       "      <td>False</td>\n",
       "      <td>False</td>\n",
       "      <td>0</td>\n",
       "      <td>0</td>\n",
       "      <td>0.03</td>\n",
       "      <td>True</td>\n",
       "    </tr>\n",
       "    <tr>\n",
       "      <th>3</th>\n",
       "      <td>D</td>\n",
       "      <td>4</td>\n",
       "      <td>False</td>\n",
       "      <td>False</td>\n",
       "      <td>0</td>\n",
       "      <td>0</td>\n",
       "      <td>0.04</td>\n",
       "      <td>True</td>\n",
       "    </tr>\n",
       "    <tr>\n",
       "      <th>4</th>\n",
       "      <td>E</td>\n",
       "      <td>5</td>\n",
       "      <td>False</td>\n",
       "      <td>False</td>\n",
       "      <td>0</td>\n",
       "      <td>0</td>\n",
       "      <td>0.05</td>\n",
       "      <td>True</td>\n",
       "    </tr>\n",
       "    <tr>\n",
       "      <th>5</th>\n",
       "      <td>F</td>\n",
       "      <td>6</td>\n",
       "      <td>True</td>\n",
       "      <td>False</td>\n",
       "      <td>0</td>\n",
       "      <td>0</td>\n",
       "      <td>0.06</td>\n",
       "      <td>False</td>\n",
       "    </tr>\n",
       "    <tr>\n",
       "      <th>6</th>\n",
       "      <td>G</td>\n",
       "      <td>7</td>\n",
       "      <td>True</td>\n",
       "      <td>False</td>\n",
       "      <td>0</td>\n",
       "      <td>0</td>\n",
       "      <td>0.07</td>\n",
       "      <td>False</td>\n",
       "    </tr>\n",
       "    <tr>\n",
       "      <th>7</th>\n",
       "      <td>H</td>\n",
       "      <td>8</td>\n",
       "      <td>True</td>\n",
       "      <td>False</td>\n",
       "      <td>0</td>\n",
       "      <td>0</td>\n",
       "      <td>0.08</td>\n",
       "      <td>False</td>\n",
       "    </tr>\n",
       "    <tr>\n",
       "      <th>8</th>\n",
       "      <td>I</td>\n",
       "      <td>9</td>\n",
       "      <td>True</td>\n",
       "      <td>False</td>\n",
       "      <td>0</td>\n",
       "      <td>0</td>\n",
       "      <td>0.09</td>\n",
       "      <td>False</td>\n",
       "    </tr>\n",
       "    <tr>\n",
       "      <th>9</th>\n",
       "      <td>J</td>\n",
       "      <td>10</td>\n",
       "      <td>True</td>\n",
       "      <td>False</td>\n",
       "      <td>0</td>\n",
       "      <td>0</td>\n",
       "      <td>0.10</td>\n",
       "      <td>False</td>\n",
       "    </tr>\n",
       "  </tbody>\n",
       "</table>\n",
       "</div>"
      ],
      "text/plain": [
       "  Name   W  WRich  IRich  Income  Taxed    SB   Vote\n",
       "0    A   1  False  False       0      0  0.01   True\n",
       "1    B   2  False  False       0      0  0.02   True\n",
       "2    C   3  False  False       0      0  0.03   True\n",
       "3    D   4  False  False       0      0  0.04   True\n",
       "4    E   5  False  False       0      0  0.05   True\n",
       "5    F   6   True  False       0      0  0.06  False\n",
       "6    G   7   True  False       0      0  0.07  False\n",
       "7    H   8   True  False       0      0  0.08  False\n",
       "8    I   9   True  False       0      0  0.09  False\n",
       "9    J  10   True  False       0      0  0.10  False"
      ]
     },
     "execution_count": 2652,
     "metadata": {},
     "output_type": "execute_result"
    }
   ],
   "source": [
    "ppl = [ppl0] #creates list of generations of people\n",
    "elect = [False] #Creates a list that will collect all election outcomes\n",
    "G = [gini(ppl0['W'])]\n",
    "ppl[0]"
   ]
  },
  {
   "cell_type": "code",
   "execution_count": 2653,
   "id": "09bba487",
   "metadata": {},
   "outputs": [],
   "source": [
    "def NextPeriod():\n",
    "    t = len(ppl) ## current period\n",
    "    ppl.append(ppl[t - 1].copy()) ## creates copy of previous period\n",
    "    \n",
    "    Outcome = False #Outcome of vote is not to tax unless vote otherwise\n",
    "    if ppl[t - 1][\"Vote\"].value_counts()[True] >= ppl[t - 1][\"Vote\"].value_counts()[False]: Outcome = True\n",
    "    elect.append(Outcome)\n",
    "    \n",
    "    ppl[t]['Income'] = ppl[t]['W']*(WG) ## calculates income fro individual (wealth * wealth growth rate) \n",
    "    ppl[t]['Income'] = ppl[t].apply(lambda row: row['Income'] \n",
    "                        + (row['W'] * np.random.normal(loc=row['SB'], scale=.1)) #+ random chance income, proportional to wealth, adjusted buffer for wealth\n",
    "                        + (sum(ppl[t-1]['Taxed']) * np.random.beta(a = 3, b = 3*(len(ppl[t]) - 1))), axis = 1) #+ benefits of taxes through investment, on average all the benefits of the tax are distributed #using beta distrobution\n",
    "    ## I hope you know I am actually really claver for figuring out how to create a beta distrobution with a set mean\n",
    "    MeanI = np.mean(ppl[t]['Income']) ## Defining Mean Wealth\n",
    "    \n",
    "    ppl[t]['IRich'] = ppl[t].apply(lambda row: True if row['Income'] >= MeanI else False, axis=1) #Says if they are income rich, meaning above average\n",
    "    ppl[t][\"Taxed\"] = ppl[t].apply(lambda row: (row['Income'] - MeanI)*TR if row['IRich'] == True else 0, axis=1) #calculates how much was taxed\n",
    "    \n",
    "    ppl[t]['W'] = ppl[t]['W'] + ppl[t]['Income'] - ppl[t][\"Taxed\"] ## Adds income to \n",
    "    ppl[t]['W'] = ppl[t].apply(lambda row: max(1, row['W']), axis = 1) ## min wealth is 1\n",
    "    \n",
    "    MeanW = np.mean(ppl[t]['W']) ## Defining Mean Wealth\n",
    "    ppl[t]['WRich'] = ppl[t].apply(lambda row: True if row['W'] >= MeanW else False, axis=1) #Says if they are rich, meaning above average\n",
    "    ppl[t][\"SB\"] = 0 # irrelavent, too powerful #.1*(ppl[t]['W']/max(ppl[t]['W'])) #chance buffer proportional to wealth compared to max wealth\n",
    "    ppl[t][\"Vote\"] = ppl[t].apply(lambda row: False if row['WRich'] == True else True, axis=1) # Rich people vote no for redistrobution #will be based on probabilities and wealth later\n",
    "    \n",
    "    G.append(gini(ppl[t]['W']))\n",
    "    \n",
    "    return t"
   ]
  },
  {
   "cell_type": "code",
   "execution_count": 2654,
   "id": "7be1cd40",
   "metadata": {},
   "outputs": [],
   "source": [
    "def GraphNextWealth():\n",
    "    t = NextPeriod() #calls the function creating the next period and returns the current period t and voting outcome\n",
    "    GraphW = sns.barplot(data=ppl[t], x=\"Name\", y=\"W\", estimator= 'mean', order = ppl[t].sort_values('W').Name) #Wealth distrobution graph\n",
    "    GraphW.set(title = f\"Wealth in Period {t}, Outcome is {elect[t]}, Gini is {G[t]:.3f}\", label = True) #, ybound=[0,50],)\n",
    "    GraphW.bar_label(GraphW.containers[0])\n",
    "    GraphW.axhline(y = np.mean(ppl[t]['W']), color = 'darkgreen')"
   ]
  },
  {
   "cell_type": "code",
   "execution_count": 2655,
   "id": "56baefc6",
   "metadata": {},
   "outputs": [
    {
     "data": {
      "image/png": "[encoded data removed]",
      "text/plain": [
       "<Figure size 640x480 with 1 Axes>"
      ]
     },
     "metadata": {},
     "output_type": "display_data"
    }
   ],
   "source": [
    "GraphNextWealth()"
   ]
  },
  {
   "cell_type": "code",
   "execution_count": 2656,
   "id": "0ba80f2b",
   "metadata": {},
   "outputs": [],
   "source": [
    "def run100():\n",
    "    for i in range(100): NextPeriod()"
   ]
  },
  {
   "cell_type": "code",
   "execution_count": 2657,
   "id": "06e20e46",
   "metadata": {},
   "outputs": [
    {
     "data": {
      "text/plain": [
       "[<matplotlib.lines.Line2D at 0x175c06018d0>]"
      ]
     },
     "execution_count": 2657,
     "metadata": {},
     "output_type": "execute_result"
    },
    {
     "data": {
      "image/png": "[encoded data removed]",
      "text/plain": [
       "<Figure size 640x480 with 1 Axes>"
      ]
     },
     "metadata": {},
     "output_type": "display_data"
    }
   ],
   "source": [
    "run100()\n",
    "plt.plot(elect)\n",
    "plt.plot(G)"
   ]
  },
  {
   "cell_type": "code",
   "execution_count": 2658,
   "id": "37731ef6",
   "metadata": {},
   "outputs": [],
   "source": [
    "## Next\n",
    "## Change voting to be based on percieved outcomes\n",
    "## Delay voting / median Income, so probibility that they will be taxed in the period\n",
    "## Calculate the inequality and making voting based on that\n",
    "## collect the data and average over several times\n",
    "## iterate over different r\n",
    "## gini is actuallly good for measuring the distrobution but bad for advising next steps, or measuring the changes and directions of inequality\n",
    "## Can change election laws, see impact"
   ]
  }
 ],
 "metadata": {
  "kernelspec": {
   "display_name": "Python 3 (ipykernel)",
   "language": "python",
   "name": "python3"
  },
  "language_info": {
   "codemirror_mode": {
    "name": "ipython",
    "version": 3
   },
   "file_extension": ".py",
   "mimetype": "text/x-python",
   "name": "python",
   "nbconvert_exporter": "python",
   "pygments_lexer": "ipython3",
   "version": "3.11.4"
  }
 },
 "nbformat": 4,
 "nbformat_minor": 5
}
